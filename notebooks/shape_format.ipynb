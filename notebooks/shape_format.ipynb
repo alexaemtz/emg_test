{
 "cells": [
  {
   "cell_type": "code",
   "execution_count": 38,
   "id": "59445e0b",
   "metadata": {},
   "outputs": [],
   "source": [
    "import pandas as pd\n",
    "import numpy as np\n",
    "import matplotlib.pyplot as plt\n",
    "import seaborn as sns\n",
    "from sklearn.model_selection import train_test_split\n",
    "from sklearn.preprocessing import StandardScaler, LabelBinarizer\n",
    "from sklearn.ensemble import RandomForestClassifier\n",
    "from sklearn.metrics import confusion_matrix, accuracy_score, classification_report"
   ]
  },
  {
   "cell_type": "code",
   "execution_count": 39,
   "id": "82fc5723",
   "metadata": {},
   "outputs": [],
   "source": [
    "# 2.📂 Cargar el dataset de características\n",
    "data_path = f\"F:/orthesis_classification/data/features/emg_features_labeled.csv\"\n",
    "try:\n",
    "    features = pd.read_csv(data_path)\n",
    "except FileNotFoundError:\n",
    "    print(\"Archivo no encontrado. Por favor, verifique la ruta de acceso.\")\n",
    "    exit()"
   ]
  },
  {
   "cell_type": "code",
   "execution_count": 40,
   "id": "9a898088",
   "metadata": {},
   "outputs": [
    {
     "data": {
      "text/plain": [
       "array(['HandOpen', 'HandClose', 'Wrist Flexion', 'Wrist Extension',\n",
       "       'Supination', 'Pronation', 'Rest'], dtype=object)"
      ]
     },
     "execution_count": 40,
     "metadata": {},
     "output_type": "execute_result"
    }
   ],
   "source": [
    "labels = features[\"label\"].unique()\n",
    "labels"
   ]
  },
  {
   "cell_type": "code",
   "execution_count": 41,
   "id": "bc1250fb",
   "metadata": {},
   "outputs": [
    {
     "data": {
      "text/plain": [
       "'for label in labels:\\n    filtered_features = features[features[\"label\"] == label]\\n    filename = f\"{label}.csv\"\\n    filtered_features.to_csv(f\\'F:/orthesis_classification/data/features/movement/features_all_{filename}\\', index=False)\\n    print(f\"Archivo guardado: features_all_{filename}\")'"
      ]
     },
     "execution_count": 41,
     "metadata": {},
     "output_type": "execute_result"
    }
   ],
   "source": [
    "\"\"\"for label in labels:\n",
    "    filtered_features = features[features[\"label\"] == label]\n",
    "    filename = f\"{label}.csv\"\n",
    "    filtered_features.to_csv(f'F:/orthesis_classification/data/features/movement/features_all_{filename}', index=False)\n",
    "    print(f\"Archivo guardado: features_all_{filename}\")\"\"\""
   ]
  },
  {
   "cell_type": "code",
   "execution_count": 42,
   "id": "558bf3a2",
   "metadata": {},
   "outputs": [],
   "source": [
    "handopen_data = pd.read_csv(\"F:/orthesis_classification/data/features/movement/features_all_HandOpen.csv\")\n",
    "handclose_data = pd.read_csv(\"F:/orthesis_classification/data/features/movement/features_all_HandClose.csv\")\n",
    "wristflexion_data = pd.read_csv(\"F:/orthesis_classification/data/features/movement/features_all_Wrist Flexion.csv\")\n",
    "wristextension_data = pd.read_csv(\"F:/orthesis_classification/data/features/movement/features_all_Wrist Extension.csv\")\n",
    "supination_data = pd.read_csv(\"F:/orthesis_classification/data/features/movement/features_all_Supination.csv\")\n",
    "pronation_data = pd.read_csv(\"F:/orthesis_classification/data/features/movement/features_all_Pronation.csv\")\n",
    "rest_data = pd.read_csv(\"F:/orthesis_classification/data/features/movement/features_all_Rest.csv\")"
   ]
  },
  {
   "cell_type": "code",
   "execution_count": 43,
   "id": "9f25905f",
   "metadata": {},
   "outputs": [],
   "source": [
    "handopen_data = handopen_data.drop(columns=[\"label\"])\n",
    "handclose_data =handclose_data.drop(columns=[\"label\"])\n",
    "wristflexion_data = wristflexion_data.drop(columns=[\"label\"])\n",
    "wristextension_data = wristextension_data.drop(columns=[\"label\"])\n",
    "supination_data =supination_data.drop(columns=[\"label\"])\n",
    "pronation_data = pronation_data.drop(columns=[\"label\"])\n",
    "rest_data = rest_data.drop(columns=[\"label\"])"
   ]
  },
  {
   "cell_type": "code",
   "execution_count": 44,
   "id": "8c698fdc",
   "metadata": {},
   "outputs": [
    {
     "name": "stdout",
     "output_type": "stream",
     "text": [
      "(264, 21)\n",
      "(264, 21)\n",
      "(264, 21)\n",
      "(264, 21)\n",
      "(264, 21)\n",
      "(264, 21)\n",
      "(264, 21)\n"
     ]
    }
   ],
   "source": [
    "print(handopen_data.shape)\n",
    "print(handclose_data.shape)\n",
    "print(wristflexion_data.shape)\n",
    "print(wristextension_data.shape)\n",
    "print(supination_data.shape)\n",
    "print(pronation_data.shape)\n",
    "print(rest_data.shape)"
   ]
  },
  {
   "cell_type": "code",
   "execution_count": 45,
   "id": "7c2cb047",
   "metadata": {},
   "outputs": [],
   "source": [
    "# Crear las etiquetas de clasisficación\n",
    "num_samples = 264\n",
    "\n",
    "handopen_labels = np.full((handopen_data.shape[0], 1), 0) # 0 para Mano Abierta\n",
    "handclose_labels = np.full((handclose_data.shape[0], 1), 1) # 1 para Mano Cerrada\n",
    "wristflexion_labels = np.full((wristflexion_data.shape[0], 1), 2) # 2 para Flexion de Muñeca\n",
    "wristextension_labels = np.full((wristextension_data.shape[0], 1), 3) # 3 para Extension de Muñeca\n",
    "supination_labels = np.full((supination_data.shape[0], 1), 4) # 4 para Supinación\n",
    "pronation_labels = np.full((pronation_data.shape[0], 1), 5) # 5 para Pronación\n",
    "rest_labels = np.full((rest_data.shape[0], 1), 6) # 6 para Reposo\n",
    "\n",
    "# Combinar los datos y las etiquetas \n",
    "data = np.vstack((handopen_data.values, handclose_data.values, wristflexion_data.values, wristextension_data.values, supination_data.values, pronation_data.values, rest_data.values))\n",
    "labels = np.vstack((handopen_labels, handclose_labels, wristflexion_labels, wristextension_labels, supination_labels, pronation_labels, rest_labels))"
   ]
  }
 ],
 "metadata": {
  "kernelspec": {
   "display_name": "Python 3",
   "language": "python",
   "name": "python3"
  },
  "language_info": {
   "codemirror_mode": {
    "name": "ipython",
    "version": 3
   },
   "file_extension": ".py",
   "mimetype": "text/x-python",
   "name": "python",
   "nbconvert_exporter": "python",
   "pygments_lexer": "ipython3",
   "version": "3.12.10"
  }
 },
 "nbformat": 4,
 "nbformat_minor": 5
}
