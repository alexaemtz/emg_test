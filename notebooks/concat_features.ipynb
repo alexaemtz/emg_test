{
 "cells": [
  {
   "cell_type": "code",
   "execution_count": 9,
   "id": "db5ea195",
   "metadata": {},
   "outputs": [],
   "source": [
    "# 1. 📦 Importar las bibliotecas necesarias\n",
    "import pandas as pd\n",
    "import numpy as np\n",
    "import matplotlib.pyplot as plt\n",
    "import seaborn as sns\n",
    "from glob import glob\n",
    "import os\n",
    "\n",
    "sns.set(style=\"darkgrid\")\n",
    "plt.rcParams['figure.figsize'] = (10, 6)"
   ]
  },
  {
   "cell_type": "code",
   "execution_count": 10,
   "id": "4633e5f7",
   "metadata": {},
   "outputs": [],
   "source": [
    "# 2. 📂 Cargar y concatenar el conjunto de datos\n",
    "def get_features_data():\n",
    "    data_root = f\"F:/orthesis_classification/data/features/\"\n",
    "    filepaths = glob(os.path.join(data_root, \"emg_features_v0*.csv\"))\n",
    "    dataframes = []\n",
    "    for filepath in filepaths:\n",
    "        features = pd.read_csv(filepath)\n",
    "        dataframes.append(features)\n",
    "        \n",
    "    all_features = pd.concat(dataframes, ignore_index=True)\n",
    "    \n",
    "    return all_features\n",
    "\n",
    "features_all = get_features_data()"
   ]
  },
  {
   "cell_type": "code",
   "execution_count": null,
   "id": "fd30d4d4",
   "metadata": {},
   "outputs": [],
   "source": [
    "# 3. Concatenar archivos de características\n",
    "features_all.to_csv(\"F:/orthesis_classification/data/features/emg_features_all.csv\", index=False)"
   ]
  }
 ],
 "metadata": {
  "kernelspec": {
   "display_name": "Python 3",
   "language": "python",
   "name": "python3"
  },
  "language_info": {
   "codemirror_mode": {
    "name": "ipython",
    "version": 3
   },
   "file_extension": ".py",
   "mimetype": "text/x-python",
   "name": "python",
   "nbconvert_exporter": "python",
   "pygments_lexer": "ipython3",
   "version": "3.12.10"
  }
 },
 "nbformat": 4,
 "nbformat_minor": 5
}
